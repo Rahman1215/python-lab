{
  "nbformat": 4,
  "nbformat_minor": 0,
  "metadata": {
    "colab": {
      "name": "Untitled0.ipynb",
      "provenance": [],
      "authorship_tag": "ABX9TyPF03yAFRxL28GYgzXWJ0to",
      "include_colab_link": true
    },
    "kernelspec": {
      "name": "python3",
      "display_name": "Python 3"
    },
    "language_info": {
      "name": "python"
    }
  },
  "cells": [
    {
      "cell_type": "markdown",
      "metadata": {
        "id": "view-in-github",
        "colab_type": "text"
      },
      "source": [
        "<a href=\"https://colab.research.google.com/github/Rahman1215/python-lab/blob/main/PyArithemetic.ipynb\" target=\"_parent\"><img src=\"https://colab.research.google.com/assets/colab-badge.svg\" alt=\"Open In Colab\"/></a>"
      ]
    },
    {
      "cell_type": "code",
      "execution_count": null,
      "metadata": {
        "colab": {
          "base_uri": "https://localhost:8080/"
        },
        "id": "FYncyrPA9cBP",
        "outputId": "fb258b84-5edf-4c14-ebaf-1995051009df"
      },
      "outputs": [
        {
          "output_type": "stream",
          "name": "stdout",
          "text": [
            "choice 1:add, 2:sub, 3:div, 4:multiplication, 5:modulo 6:quit\n",
            "Enter: 6\n",
            "This  6 number is not available\n"
          ]
        }
      ],
      "source": [
        "print(\"choice 1:add, 2:sub, 3:div, 4:multiplication, 5:modulo 6:quit\" )\n",
        "inputted_value= int(input(\"Enter: \"))\n",
        "n=inputted_value\n",
        "if (n==1):\n",
        "  print(\"addition\")\n",
        "  a=int(input(\"enter the value a :\"))\n",
        "  b=int(input(\"enter the avlue b :\"))\n",
        "  c=a+b\n",
        "  print(\"the result of a+b =\",c)\n",
        "elif (n==2):\n",
        "  print(\"subraction\")\n",
        "  a=int(input(\"enter the value a :\"))\n",
        "  b=int(input(\"enter the avlue b :\"))\n",
        "  c=a-b\n",
        "  print(\"the result of a-b =\",c)\n",
        "elif (n==3):\n",
        "  print(\"division\")\n",
        "  a=int(input(\"enter the value a :\"))\n",
        "  b=int(input(\"enter the avlue b :\"))\n",
        "  c=a/b\n",
        "  print(\"the result of a/b =\",c)\n",
        "elif (n==4):\n",
        "  print(\"multiplication\")\n",
        "  a=int(input(\"enter the value a :\"))\n",
        "  b=int(input(\"enter the avlue b :\"))\n",
        "  c=a*b\n",
        "  print(\"the result of a*b =\",c)\n",
        "elif (n==5):\n",
        "  print(\"modulo\")\n",
        "  a=int(input(\"enter the value a :\"))\n",
        "  b=int(input(\"enter the avlue b :\"))\n",
        "  c=a%b\n",
        "  print(\"the result of a%b =\",c)\n",
        "elif(n==6):\n",
        "  print(\"This \",n, \"number is not available\")\n",
        "  exit()"
      ]
    }
  ]
}