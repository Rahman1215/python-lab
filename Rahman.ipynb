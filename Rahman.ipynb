{
  "nbformat": 4,
  "nbformat_minor": 0,
  "metadata": {
    "colab": {
      "name": "Rahman.ipynb",
      "provenance": [],
      "authorship_tag": "ABX9TyNrbrf4Ce2Wa6My9ZIrSli9",
      "include_colab_link": true
    },
    "kernelspec": {
      "name": "python3",
      "display_name": "Python 3"
    },
    "language_info": {
      "name": "python"
    }
  },
  "cells": [
    {
      "cell_type": "markdown",
      "metadata": {
        "id": "view-in-github",
        "colab_type": "text"
      },
      "source": [
        "<a href=\"https://colab.research.google.com/github/Rahman1215/python-lab/blob/main/Rahman.ipynb\" target=\"_parent\"><img src=\"https://colab.research.google.com/assets/colab-badge.svg\" alt=\"Open In Colab\"/></a>"
      ]
    },
    {
      "cell_type": "code",
      "source": [
        "num1 = 1\n",
        "num2 = 6\n",
        "sum = num1 + num2\n",
        "print('the sum of {0} and {1} is {2}'.format(num1,num2,sum))"
      ],
      "metadata": {
        "colab": {
          "base_uri": "https://localhost:8080/"
        },
        "id": "DNdFeHVh5RS2",
        "outputId": "d08e6369-0ca4-49eb-f2e6-feb554b7abcb"
      },
      "execution_count": null,
      "outputs": [
        {
          "output_type": "stream",
          "name": "stdout",
          "text": [
            "the sum of 1 and 6 is 7\n"
          ]
        }
      ]
    },
    {
      "cell_type": "code",
      "source": [
        "num1 = input('enter the first number:')\n",
        "num2 = input('enter the second number:')\n",
        "sum =float(num1)+float(num2)\n",
        "print('the sum of {0} and {1} is {2}'.format(num1,num2,sum))"
      ],
      "metadata": {
        "colab": {
          "base_uri": "https://localhost:8080/"
        },
        "id": "nhVJFvgj7WiM",
        "outputId": "f67092da-85e1-4c14-abb7-821af1fd441f"
      },
      "execution_count": null,
      "outputs": [
        {
          "output_type": "stream",
          "name": "stdout",
          "text": [
            "enter the first number:6\n",
            "enter the second number:4.4\n",
            "the sum of 6 and 4.4 is 10.4\n"
          ]
        }
      ]
    },
    {
      "cell_type": "code",
      "source": [
        "num=5\n",
        "sqrt=num**2\n",
        "print('the sqaure root of %0.2f is %0.2f'%(num,sqrt))"
      ],
      "metadata": {
        "colab": {
          "base_uri": "https://localhost:8080/"
        },
        "id": "0ILVk3sk88Ns",
        "outputId": "b717f791-e86b-49da-e64e-553c2b6a149c"
      },
      "execution_count": null,
      "outputs": [
        {
          "output_type": "stream",
          "name": "stdout",
          "text": [
            "the sqaure root of 5.00 is 25.00\n"
          ]
        }
      ]
    },
    {
      "cell_type": "code",
      "source": [
        "import cmath\n",
        "num =1+2j\n",
        "sqrt1=cmath.sqrt(num)\n",
        "print('the square root of {0} is {1:0.3f}+{2:0.3f}'.format(num,sqrt1.real,sqrt1.imag))"
      ],
      "metadata": {
        "colab": {
          "base_uri": "https://localhost:8080/"
        },
        "id": "C_687Q0vBPVY",
        "outputId": "e2bfbfd8-f8cb-4ce7-feb2-9b6835c3995a"
      },
      "execution_count": null,
      "outputs": [
        {
          "output_type": "stream",
          "name": "stdout",
          "text": [
            "the square root of (1+2j) is 1.272+0.786\n"
          ]
        }
      ]
    },
    {
      "cell_type": "code",
      "source": [
        "a=5\n",
        "b=3\n",
        "c=8\n",
        "s=(a+b+c)/2\n",
        "area =(s*(s-a)*(s-b)*(s-c))**0.5\n",
        "print('The area of the triangle is %0.2f'%area)"
      ],
      "metadata": {
        "colab": {
          "base_uri": "https://localhost:8080/"
        },
        "id": "oSuMWf2WDwDU",
        "outputId": "59ff9ec8-5a15-4807-d2f8-dbd31d13ae5a"
      },
      "execution_count": null,
      "outputs": [
        {
          "output_type": "stream",
          "name": "stdout",
          "text": [
            "The area of the triangle is 0.00\n"
          ]
        }
      ]
    },
    {
      "cell_type": "code",
      "source": [
        "x=10\n",
        "y=20\n",
        "temp=x\n",
        "x=y\n",
        "y=temp\n",
        "print('the value of x after swapping:{}'.format(x))\n",
        "print('the value of y after swapping:{}'.format(y))\n"
      ],
      "metadata": {
        "id": "LRBkq7FwFTJa",
        "colab": {
          "base_uri": "https://localhost:8080/"
        },
        "outputId": "f9f74970-dd05-4bf5-b997-38416c410773"
      },
      "execution_count": 12,
      "outputs": [
        {
          "output_type": "stream",
          "name": "stdout",
          "text": [
            "the value of x after swapping:20\n",
            "the value of y after swapping:10\n"
          ]
        }
      ]
    },
    {
      "cell_type": "code",
      "source": [
        "website=\"amazon.com\"\n",
        "print(website)\n",
        "website=\"apple.com\"\n",
        "print(website)"
      ],
      "metadata": {
        "colab": {
          "base_uri": "https://localhost:8080/"
        },
        "id": "gWBl-T7vLtFC",
        "outputId": "d78d7489-2454-492b-e284-f13047d0e3bf"
      },
      "execution_count": 1,
      "outputs": [
        {
          "output_type": "stream",
          "name": "stdout",
          "text": [
            "amazon.com\n",
            "apple.com\n"
          ]
        }
      ]
    }
  ]
}