{
  "nbformat": 4,
  "nbformat_minor": 0,
  "metadata": {
    "colab": {
      "name": "Untitled1.ipynb",
      "provenance": [],
      "authorship_tag": "ABX9TyPz3xRy3UdZPtufsXJcjAal",
      "include_colab_link": true
    },
    "kernelspec": {
      "name": "python3",
      "display_name": "Python 3"
    },
    "language_info": {
      "name": "python"
    }
  },
  "cells": [
    {
      "cell_type": "markdown",
      "metadata": {
        "id": "view-in-github",
        "colab_type": "text"
      },
      "source": [
        "<a href=\"https://colab.research.google.com/github/Rahman1215/python-lab/blob/main/Untitled1.ipynb\" target=\"_parent\"><img src=\"https://colab.research.google.com/assets/colab-badge.svg\" alt=\"Open In Colab\"/></a>"
      ]
    },
    {
      "cell_type": "code",
      "execution_count": 1,
      "metadata": {
        "colab": {
          "base_uri": "https://localhost:8080/"
        },
        "id": "Z3qdoUxbzB75",
        "outputId": "7fded1a4-e5c9-4310-ada1-8e10af015094"
      },
      "outputs": [
        {
          "output_type": "stream",
          "name": "stdout",
          "text": [
            "enter youre mark:21\n",
            "your fail\n"
          ]
        }
      ],
      "source": [
        "#if else\n",
        "a=int(input(\"enter youre mark:\"))\n",
        "if a>=95:\n",
        " print(\"your grade is s\")\n",
        "else:\n",
        " print(\"your fail\")"
      ]
    },
    {
      "cell_type": "code",
      "source": [
        "#if else\n",
        "i = 20\n",
        "if (i == 10):\n",
        "    print(\"i is 10\")\n",
        "elif (i == 15):\n",
        "    print(\"i is 15\")\n",
        "elif (i == 20):\n",
        "    print(\"i is 20\")\n",
        "else:\n",
        "    print(\"i is not present\")"
      ],
      "metadata": {
        "colab": {
          "base_uri": "https://localhost:8080/"
        },
        "id": "y4KoFiwsaY1Z",
        "outputId": "67192a15-56eb-4ae1-f649-b767771e0391"
      },
      "execution_count": 2,
      "outputs": [
        {
          "output_type": "stream",
          "name": "stdout",
          "text": [
            "i is 20\n"
          ]
        }
      ]
    },
    {
      "cell_type": "code",
      "source": [
        "#nested if else\n",
        "num = 15\n",
        "if num >= 0:\n",
        "    if num == 0:\n",
        "        print(\"Zero\")\n",
        "    else:\n",
        "        print(\"Positive number\")\n",
        "else:\n",
        "    print(\"Negative number\")"
      ],
      "metadata": {
        "colab": {
          "base_uri": "https://localhost:8080/"
        },
        "id": "DKT23IKCa1c3",
        "outputId": "3ca13e68-5ec1-4705-832f-018637793a6a"
      },
      "execution_count": 3,
      "outputs": [
        {
          "output_type": "stream",
          "name": "stdout",
          "text": [
            "Positive number\n"
          ]
        }
      ]
    },
    {
      "cell_type": "code",
      "source": [
        "#nested if\n",
        "var = 100\n",
        "if var < 200:\n",
        "   print (\"Expression value is less than 200\")\n",
        "   if var == 150:\n",
        "      print (\"Which is 150\")\n",
        "   elif var == 100:\n",
        "      print (\"Which is 100\")\n",
        "   elif var == 50:\n",
        "      print (\"Which is 50\")\n",
        "   elif var < 50:\n",
        "      print (\"Expression value is less than 50\")\n",
        "else:\n",
        "   print (\"Could not find true expression\")\n",
        "\n",
        "print (\"Good bye!\")"
      ],
      "metadata": {
        "colab": {
          "base_uri": "https://localhost:8080/"
        },
        "id": "BGT2-8kibJme",
        "outputId": "b9b707d7-51c2-4261-d1f3-7b90c5f23934"
      },
      "execution_count": 4,
      "outputs": [
        {
          "output_type": "stream",
          "name": "stdout",
          "text": [
            "Expression value is less than 200\n",
            "Which is 100\n",
            "Good bye!\n"
          ]
        }
      ]
    },
    {
      "cell_type": "code",
      "source": [
        "#nested if\n",
        "x = 10\n",
        "if x != 0:\n",
        "   if x % 2 == 0:\n",
        "      print('even number')\n",
        "   else:\n",
        "      print('odd number')\n",
        "elif x == 0:\n",
        "   print('equal to zero')\n",
        "elif x > 0:\n",
        "  for i in range(2,x):\n",
        "     if i % 2 == 0:\n",
        "        print('not a prime number')\n",
        "     else:\n",
        "        print('prime number')\n",
        "else:\n",
        "   print('less than zero')"
      ],
      "metadata": {
        "colab": {
          "base_uri": "https://localhost:8080/"
        },
        "id": "Pr4BeDrab3lc",
        "outputId": "2825924a-0d9c-4425-c362-fd517b5d0b3e"
      },
      "execution_count": 5,
      "outputs": [
        {
          "output_type": "stream",
          "name": "stdout",
          "text": [
            "even number\n"
          ]
        }
      ]
    }
  ]
}